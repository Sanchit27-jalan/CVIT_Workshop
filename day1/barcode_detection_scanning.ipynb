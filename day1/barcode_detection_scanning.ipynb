{
  "nbformat": 4,
  "nbformat_minor": 0,
  "metadata": {
    "colab": {
      "provenance": [],
      "collapsed_sections": [
        "hTchjSi7BGtZ",
        "cyP-uvueJz5l",
        "Wpzb__8GRdvz",
        "fBTj0fKcVeq8"
      ]
    },
    "kernelspec": {
      "name": "python3",
      "display_name": "Python 3"
    },
    "language_info": {
      "name": "python"
    }
  },
  "cells": [
    {
      "cell_type": "markdown",
      "source": [
        "# Barcode Detection and Scanning\n",
        "\n",
        "In this session, you are required to implement a basic barcode scanner using image various image processing methods.\n",
        "\n",
        "We will be using python's OpenCV library (cv2) for the purpose of preforming image processing tasks."
      ],
      "metadata": {
        "id": "hTchjSi7BGtZ"
      }
    },
    {
      "cell_type": "markdown",
      "source": [
        "## Importing Librarie and Cloning the repository"
      ],
      "metadata": {
        "id": "cyP-uvueJz5l"
      }
    },
    {
      "cell_type": "code",
      "source": [
        "!git clone https://github.com/vanshg1729/cvit-workshop-2024.git"
      ],
      "metadata": {
        "id": "_Tze_TtKKJB2",
        "colab": {
          "base_uri": "https://localhost:8080/"
        },
        "outputId": "8012a12c-f393-44ad-df3b-e8403cdd161d"
      },
      "execution_count": 1,
      "outputs": [
        {
          "output_type": "stream",
          "name": "stdout",
          "text": [
            "Cloning into 'cvit-workshop-2024'...\n",
            "remote: Enumerating objects: 69, done.\u001b[K\n",
            "remote: Counting objects: 100% (69/69), done.\u001b[K\n",
            "remote: Compressing objects: 100% (49/49), done.\u001b[K\n",
            "remote: Total 69 (delta 8), reused 60 (delta 6), pack-reused 0\u001b[K\n",
            "Receiving objects: 100% (69/69), 4.71 MiB | 9.62 MiB/s, done.\n",
            "Resolving deltas: 100% (8/8), done.\n"
          ]
        }
      ]
    },
    {
      "cell_type": "code",
      "source": [
        "import os\n",
        "import sys\n",
        "\n",
        "REPO_DIR = \"/content/cvit-workshop-2024\"\n",
        "assert os.path.exists(REPO_DIR), f\"{REPO_DIR} does not exists\"\n",
        "\n",
        "IMAGES_DIR = os.path.join(REPO_DIR, \"day1/images\")\n",
        "print(f\"{IMAGES_DIR}, exists = {os.path.exists(IMAGES_DIR)}\")"
      ],
      "metadata": {
        "colab": {
          "base_uri": "https://localhost:8080/"
        },
        "id": "4RsNyumsK4IY",
        "outputId": "c155db0a-a2be-4252-fcba-a2f24a28d2f8"
      },
      "execution_count": 2,
      "outputs": [
        {
          "output_type": "stream",
          "name": "stdout",
          "text": [
            "/content/cvit-workshop-2024/day1/images, exists = True\n"
          ]
        }
      ]
    },
    {
      "cell_type": "code",
      "source": [
        "# importing basic libraries\n",
        "import numpy as np\n",
        "import copy\n",
        "import cv2\n",
        "from google.colab.patches import cv2_imshow\n",
        "import math\n",
        "from collections import defaultdict\n",
        "from matplotlib import pyplot as plt"
      ],
      "metadata": {
        "id": "7GU9nrR6Wt3J"
      },
      "execution_count": 3,
      "outputs": []
    },
    {
      "cell_type": "markdown",
      "source": [
        "# Barcode Detection"
      ],
      "metadata": {
        "id": "Wpzb__8GRdvz"
      }
    },
    {
      "cell_type": "code",
      "source": [
        "img_path = os.path.join(IMAGES_DIR, \"input.png\")\n",
        "assert os.path.exists(img_path), f\"{img_path} Does Not Exists\"\n",
        "\n",
        "original = cv2.imread(img_path)\n",
        "print(f\"original image shape: {original.shape}\")\n",
        "image = original.copy()\n",
        "image = cv2.cvtColor(image, cv2.COLOR_BGR2GRAY)\n",
        "\n",
        "plt.imshow(image, cmap='gray')\n",
        "plt.show()"
      ],
      "metadata": {
        "id": "-ueSBzdgd-zP",
        "colab": {
          "base_uri": "https://localhost:8080/",
          "height": 216
        },
        "outputId": "e0d2e7a9-6b48-4a51-eb8f-5643eba33a7f"
      },
      "execution_count": 4,
      "outputs": [
        {
          "output_type": "stream",
          "name": "stdout",
          "text": [
            "original image shape: (153, 566, 3)\n"
          ]
        },
        {
          "output_type": "display_data",
          "data": {
            "text/plain": [
              "<Figure size 640x480 with 1 Axes>"
            ],
            "image/png": "[encoded data removed]"
          },
          "metadata": {}
        }
      ]
    },
    {
      "cell_type": "markdown",
      "source": [
        "Resize the input.png image using cv2.resize() and the show the resized image using cv2_imshow() (which is the colab compatible equivalent for the command cv2.imshow() of OpenCV).\n",
        "\n",
        "Feel free to look up for the syntaxes on google. :)\n",
        "\n",
        "**Note** : Keep all the variable names to be the same for all the commented lines"
      ],
      "metadata": {
        "id": "iygWOvONCfV9"
      }
    },
    {
      "cell_type": "code",
      "source": [
        "# Resize the input image and display using cv2_imshow\n",
        "resized_image = cv2.resize(image, None, fx=0.7, fy=0.7, interpolation = cv2.INTER_CUBIC)\n",
        "print(f\"Shape of resized image: {resized_image.shape}\")\n",
        "cv2_imshow(resized_image)\n",
        "\n",
        "image = resized_image"
      ],
      "metadata": {
        "id": "2SA92HPTLDZu",
        "outputId": "732f2dcc-9e6e-495f-ab40-42d65d14172a",
        "colab": {
          "base_uri": "https://localhost:8080/",
          "height": 141
        }
      },
      "execution_count": 5,
      "outputs": [
        {
          "output_type": "stream",
          "name": "stdout",
          "text": [
            "Shape of resized image: (107, 396)\n"
          ]
        },
        {
          "output_type": "display_data",
          "data": {
            "text/plain": [
              "<PIL.Image.Image image mode=L size=396x107>"
            ],
            "image/png": "[encoded data removed]"
          },
          "metadata": {}
        }
      ]
    },
    {
      "cell_type": "code",
      "source": [
        "#@title Solution\n",
        "\n",
        "# copying and grayscaling the original image\n",
        "image = original.copy()\n",
        "image = cv2.cvtColor(image, cv2.COLOR_BGR2GRAY)\n",
        "\n",
        "# Resize the input image\n",
        "print(f\"Shape of original image: {image.shape}\")\n",
        "resized_image = cv2.resize(image, None, fx=0.7, fy=0.7, interpolation = cv2.INTER_CUBIC)\n",
        "print(f\"Shape of resized image: {resized_image.shape}\")\n",
        "cv2_imshow(resized_image)\n",
        "\n",
        "image = resized_image\n"
      ],
      "metadata": {
        "id": "NVTWz0BhePki",
        "colab": {
          "base_uri": "https://localhost:8080/",
          "height": 159
        },
        "outputId": "5812ce28-bac3-420c-9f9b-191ab81050a5",
        "cellView": "form"
      },
      "execution_count": null,
      "outputs": [
        {
          "output_type": "stream",
          "name": "stdout",
          "text": [
            "Shape of original image: (153, 566)\n",
            "Shape of resized image: (107, 396)\n"
          ]
        },
        {
          "output_type": "display_data",
          "data": {
            "text/plain": [
              "<PIL.Image.Image image mode=L size=396x107>"
            ],
            "image/png": "[encoded data removed]"
          },
          "metadata": {}
        }
      ]
    },
    {
      "cell_type": "markdown",
      "source": [
        "Calculate the gradients in x and y directions using cv2.Sobel().\n",
        "\n",
        "Set ksize = -1 to use the **Scharr Operator**."
      ],
      "metadata": {
        "id": "3pIRmh2rGwGg"
      }
    },
    {
      "cell_type": "code",
      "source": [
        "# Find the gradient in X and Y directions using cv2.Sobel(). Uncomment and finish the lines below\n",
        "gradX = cv2.Sobel(image,cv2.CV_32F,1,0,ksize=-1)\n",
        "gradY = cv2.Sobel(image,cv2.CV_32F,0,1,ksize=-1)"
      ],
      "metadata": {
        "id": "zQLmXseEeZOk"
      },
      "execution_count": 7,
      "outputs": []
    },
    {
      "cell_type": "markdown",
      "source": [
        "Show gradX and gradY using cv2_imshow()."
      ],
      "metadata": {
        "id": "H6tLKhcsHjmZ"
      }
    },
    {
      "cell_type": "code",
      "source": [
        "# print the shapes of gradX and gradY\n",
        "\n",
        "print(f'Shape of X Gradient: {gradX.shape}')\n",
        "print(f'max value in gradX: {np.max(gradX)}, min value = {np.min(gradX)}')\n",
        "print(f'dtype of gradX: {gradX.dtype}')"
      ],
      "metadata": {
        "id": "XQi0p28ezN7m",
        "collapsed": true,
        "outputId": "2a3b961f-8374-4a79-fbde-217fd307d38e",
        "colab": {
          "base_uri": "https://localhost:8080/"
        }
      },
      "execution_count": 8,
      "outputs": [
        {
          "output_type": "stream",
          "name": "stdout",
          "text": [
            "Shape of X Gradient: (107, 396)\n",
            "max value in gradX: 4080.0, min value = -4080.0\n",
            "dtype of gradX: float32\n"
          ]
        }
      ]
    },
    {
      "cell_type": "code",
      "source": [
        "#Display gradX using cv2_imshow()\n",
        "cv2_imshow(gradX)"
      ],
      "metadata": {
        "id": "d5R4foXjkxUf",
        "outputId": "4685a8c3-0834-4965-9f22-a5e1b3f2b573",
        "colab": {
          "base_uri": "https://localhost:8080/",
          "height": 124
        }
      },
      "execution_count": 9,
      "outputs": [
        {
          "output_type": "display_data",
          "data": {
            "text/plain": [
              "<PIL.Image.Image image mode=L size=396x107>"
            ],
            "image/png": "[encoded data removed]"
          },
          "metadata": {}
        }
      ]
    },
    {
      "cell_type": "code",
      "source": [
        "#Display gradY using cv2_imshow()\n",
        "cv2_imshow(gradY)"
      ],
      "metadata": {
        "id": "3FlfxEJ1kxfm",
        "outputId": "a7e00cf8-dde0-47b2-dfae-2c668faac34e",
        "colab": {
          "base_uri": "https://localhost:8080/",
          "height": 124
        }
      },
      "execution_count": 10,
      "outputs": [
        {
          "output_type": "display_data",
          "data": {
            "text/plain": [
              "<PIL.Image.Image image mode=L size=396x107>"
            ],
            "image/png": "[encoded data removed]"
          },
          "metadata": {}
        }
      ]
    },
    {
      "cell_type": "markdown",
      "source": [
        "Calculate the magnitude of gradients as below.\n",
        "\n",
        "*   $gradient = \\sqrt{(gradX)^2 + (gradY)^2}$.\n",
        "\n",
        "use cv2.sqrt() and cv2.add() for this purpose."
      ],
      "metadata": {
        "id": "RcxwFr-LLkk5"
      }
    },
    {
      "cell_type": "code",
      "source": [
        "# Compute the magnitue of gradients\n",
        "\n",
        "gradient = np.sqrt(gradX*gradX + gradY*gradY)"
      ],
      "metadata": {
        "id": "DqEcEGGBhL5x"
      },
      "execution_count": 11,
      "outputs": []
    },
    {
      "cell_type": "code",
      "source": [
        "gradient = cv2.convertScaleAbs(gradient) # Converts the output to an 8-bit representation"
      ],
      "metadata": {
        "id": "1lapBcqOM5Q-"
      },
      "execution_count": 12,
      "outputs": []
    },
    {
      "cell_type": "code",
      "source": [
        "# Display the computed gradient image using cv2_imshow()\n",
        "cv2_imshow(gradient)"
      ],
      "metadata": {
        "id": "8z1QtJ3nMsB-",
        "outputId": "5af7cacf-8c64-41a9-b8f0-52bf06162c14",
        "colab": {
          "base_uri": "https://localhost:8080/",
          "height": 124
        }
      },
      "execution_count": 13,
      "outputs": [
        {
          "output_type": "display_data",
          "data": {
            "text/plain": [
              "<PIL.Image.Image image mode=L size=396x107>"
            ],
            "image/png": "[encoded data removed]"
          },
          "metadata": {}
        }
      ]
    },
    {
      "cell_type": "markdown",
      "source": [
        "Blur the gradient image using cv2.blur(). Use a $3 \\times 3$ kernel for the the same.\n",
        "\n",
        "Further, perform binary thresholding on the blurred image using cv2.threshold(). Use the threshold value of 225, i.e. values below 225 should be mapped to 0, and the values greater than or equal to 225 should be mapped to 255."
      ],
      "metadata": {
        "id": "RQDzc-scNP_4"
      }
    },
    {
      "cell_type": "code",
      "source": [
        "# blurred = # Blur the gradient image using cv2.blur() with a 3*3 kernel\n",
        "gradient_blur = cv2.blur(gradient,(3,3))\n",
        "\n",
        "# displaying image after blurring\n",
        "cv2_imshow(gradient_blur)"
      ],
      "metadata": {
        "id": "AGBEiMZLfAPh",
        "outputId": "75933092-05a7-4450-957a-009d2b0c5fca",
        "colab": {
          "base_uri": "https://localhost:8080/",
          "height": 124
        }
      },
      "execution_count": 14,
      "outputs": [
        {
          "output_type": "display_data",
          "data": {
            "text/plain": [
              "<PIL.Image.Image image mode=L size=396x107>"
            ],
            "image/png": "[encoded data removed]"
          },
          "metadata": {}
        }
      ]
    },
    {
      "cell_type": "code",
      "source": [
        "# (_, thresh) = # Perform binary thresholding on the blurred image with a threshold value of 225\n",
        "threshold  = 225\n",
        "\n",
        "# Finish the below commented line\n",
        "_, gradient_thresh =cv2.threshold(gradient_blur, threshold, 255, cv2.THRESH_BINARY)\n",
        "\n",
        "cv2_imshow(gradient_thresh)"
      ],
      "metadata": {
        "id": "oYIu4Wo3J36I",
        "outputId": "18826bb2-d5f7-4a8c-c747-2dacd2fd0803",
        "colab": {
          "base_uri": "https://localhost:8080/",
          "height": 124
        }
      },
      "execution_count": 15,
      "outputs": [
        {
          "output_type": "display_data",
          "data": {
            "text/plain": [
              "<PIL.Image.Image image mode=L size=396x107>"
            ],
            "image/png": "[encoded data removed]"
          },
          "metadata": {}
        }
      ]
    },
    {
      "cell_type": "code",
      "source": [
        "thresh = copy.deepcopy(gradient_thresh)"
      ],
      "metadata": {
        "id": "z3MjVY-rMi2s"
      },
      "execution_count": 16,
      "outputs": []
    },
    {
      "cell_type": "code",
      "source": [
        "# Display the thresholded image (thresh) of gradients using cv2_imshow()\n",
        "cv2_imshow(thresh)"
      ],
      "metadata": {
        "id": "_WggbNULNHuH",
        "outputId": "2d523e35-a620-4230-ceef-8ba2ca24b38e",
        "colab": {
          "base_uri": "https://localhost:8080/",
          "height": 124
        }
      },
      "execution_count": 17,
      "outputs": [
        {
          "output_type": "display_data",
          "data": {
            "text/plain": [
              "<PIL.Image.Image image mode=L size=396x107>"
            ],
            "image/png": "[encoded data removed]"
          },
          "metadata": {}
        }
      ]
    },
    {
      "cell_type": "markdown",
      "source": [
        "Create a rectangular kernel of Width = 21 and Height = 7 using cv2.getStructuringElement() along with cv2.MORPH_RECT.\n",
        "\n",
        "Make sure that the dimensions are written in (Width, Height) format.\n",
        "\n",
        "Further, using this kernel, perform the morphological closing operation on the image \"thresh\" using cv2.morphologyEx() along with cv2.MORPH_CLOSE."
      ],
      "metadata": {
        "id": "lUHLKSVVPMHn"
      }
    },
    {
      "cell_type": "code",
      "source": [
        "# this returns a numpy array only\n",
        "# Define a rectangular kernel with W = 21 and H = 7 using cv2.getStructuringElement. The kernel returned will be a numpy array only\n",
        "kernel = np.ones((21, 7), np.uint8)\n",
        "\n",
        "# Perform the morphological closing operation on \"thresh\" using the above kernel\n",
        "closed = cv2.morphologyEx(thresh, cv2.MORPH_CLOSE, kernel)\n",
        "\n",
        "# Perform the morphological dilation operation on \"thresh\" using the above kernel\n",
        "dilate = cv2.dilate(thresh, kernel, iterations=1)\n",
        "\n",
        "\n",
        "# Perform the erosion operation on \"thresh\" using the above kernel\n",
        "erode = cv2.erode(thresh, kernel, iterations=1)\n",
        "\n",
        "print(f'closed shape: {closed.shape}')\n",
        "print(f\"dilate.shape: {dilate.shape}\")\n",
        "print(f\"erode.shape: {erode.shape} \")"
      ],
      "metadata": {
        "id": "rN2s_H_eNPZ8",
        "outputId": "f7c2cf35-f41d-4dba-b2b8-ca8f5b4c2f21",
        "colab": {
          "base_uri": "https://localhost:8080/"
        }
      },
      "execution_count": 18,
      "outputs": [
        {
          "output_type": "stream",
          "name": "stdout",
          "text": [
            "closed shape: (107, 396)\n",
            "dilate.shape: (107, 396)\n",
            "erode.shape: (107, 396) \n"
          ]
        }
      ]
    },
    {
      "cell_type": "code",
      "source": [
        "# Displaying the thresh image\n",
        "cv2_imshow(thresh)"
      ],
      "metadata": {
        "id": "uoeBNOcXQ1g5",
        "outputId": "8a937a33-83d5-4f52-dcad-64d41e80b362",
        "colab": {
          "base_uri": "https://localhost:8080/",
          "height": 124
        }
      },
      "execution_count": 19,
      "outputs": [
        {
          "output_type": "display_data",
          "data": {
            "text/plain": [
              "<PIL.Image.Image image mode=L size=396x107>"
            ],
            "image/png": "[encoded data removed]"
          },
          "metadata": {}
        }
      ]
    },
    {
      "cell_type": "code",
      "source": [
        "# Displaying the dilated image\n",
        "cv2_imshow(dilate)"
      ],
      "metadata": {
        "id": "LHlXeN_7Qmd_",
        "outputId": "c20959d2-e075-4302-ba63-5d0728640df0",
        "colab": {
          "base_uri": "https://localhost:8080/",
          "height": 124
        }
      },
      "execution_count": 20,
      "outputs": [
        {
          "output_type": "display_data",
          "data": {
            "text/plain": [
              "<PIL.Image.Image image mode=L size=396x107>"
            ],
            "image/png": "[encoded data removed]"
          },
          "metadata": {}
        }
      ]
    },
    {
      "cell_type": "code",
      "source": [
        "# Displaying the eroded image\n",
        "cv2_imshow(erode)"
      ],
      "metadata": {
        "id": "aKPKK4G8QtvF",
        "outputId": "29cd60c5-52b7-488e-8f3f-cc8b147ddb89",
        "colab": {
          "base_uri": "https://localhost:8080/",
          "height": 124
        }
      },
      "execution_count": 21,
      "outputs": [
        {
          "output_type": "display_data",
          "data": {
            "text/plain": [
              "<PIL.Image.Image image mode=L size=396x107>"
            ],
            "image/png": "[encoded data removed]"
          },
          "metadata": {}
        }
      ]
    },
    {
      "cell_type": "code",
      "source": [
        "# Display the closed image using cv2_imshow()\n",
        "cv2_imshow(closed)"
      ],
      "metadata": {
        "id": "uM4YcNF-ZqVz",
        "outputId": "a11edff2-4419-4ba4-f0fb-4fafce6bcd7c",
        "colab": {
          "base_uri": "https://localhost:8080/",
          "height": 124
        }
      },
      "execution_count": 22,
      "outputs": [
        {
          "output_type": "display_data",
          "data": {
            "text/plain": [
              "<PIL.Image.Image image mode=L size=396x107>"
            ],
            "image/png": "[encoded data removed]"
          },
          "metadata": {}
        }
      ]
    },
    {
      "cell_type": "markdown",
      "source": [
        "We further dilate the closed image and find the region with the maximum area."
      ],
      "metadata": {
        "id": "Tks76qQIa3rM"
      }
    },
    {
      "cell_type": "code",
      "source": [
        "closed = cv2.dilate(closed, None, iterations = 7) # Performs dilation operation on the closed image\n",
        "\n",
        "# these cnts are tuples of numpy array, each numpy array contains all the white pixels of one detected contour\n",
        "cnts,hierarchy = cv2.findContours(closed.copy(), cv2.RETR_EXTERNAL,cv2.CHAIN_APPROX_SIMPLE)[-2:]\n",
        "c = sorted(cnts, key = cv2.contourArea, reverse = True)[0] # Finds the region with maximum area"
      ],
      "metadata": {
        "id": "wJUbID26ZqiJ"
      },
      "execution_count": 23,
      "outputs": []
    },
    {
      "cell_type": "markdown",
      "source": [
        "We now bound the region of maximum area with a recangular bounding box."
      ],
      "metadata": {
        "id": "qwxW1p0FcIVd"
      }
    },
    {
      "cell_type": "code",
      "source": [
        "rect = cv2.minAreaRect(c) # Fits a minimum area rectangle over the region with maximum area, hence creating a rectangular bounding box around the barcode\n",
        "box = np.int0(cv2.boxPoints(rect))"
      ],
      "metadata": {
        "id": "LI9Tsuq3TcMj",
        "colab": {
          "base_uri": "https://localhost:8080/"
        },
        "outputId": "1e18554e-b9b9-49be-cecd-dfad6b400710"
      },
      "execution_count": 24,
      "outputs": [
        {
          "output_type": "stream",
          "name": "stderr",
          "text": [
            "<ipython-input-24-9b5b86ab39f5>:2: DeprecationWarning: `np.int0` is a deprecated alias for `np.intp`.  (Deprecated NumPy 1.24)\n",
            "  box = np.int0(cv2.boxPoints(rect))\n"
          ]
        }
      ]
    },
    {
      "cell_type": "code",
      "source": [
        "# rect is a tuple of the two corner points of the rectangle and the respective angle\n",
        "print(rect)\n",
        "print(box)\n"
      ],
      "metadata": {
        "colab": {
          "base_uri": "https://localhost:8080/"
        },
        "id": "P-ivrm-BaJsp",
        "outputId": "2b6fa6ad-0af6-4aa9-cf34-2f25289fae0d"
      },
      "execution_count": 25,
      "outputs": [
        {
          "output_type": "stream",
          "name": "stdout",
          "text": [
            "((76.5, 49.0), (98.0, 153.0), 90.0)\n",
            "[[  0   0]\n",
            " [153   0]\n",
            " [153  98]\n",
            " [  0  98]]\n"
          ]
        }
      ]
    },
    {
      "cell_type": "markdown",
      "source": [
        "Result of Barcode detection (the red bounding box denotes the output of barcode detection)."
      ],
      "metadata": {
        "id": "AcNSg60Tcqs8"
      }
    },
    {
      "cell_type": "code",
      "source": [
        "print(original.shape)"
      ],
      "metadata": {
        "colab": {
          "base_uri": "https://localhost:8080/"
        },
        "id": "S6mNK-YaGvXr",
        "outputId": "f6932277-29df-4045-e18d-46b76d35b782"
      },
      "execution_count": 26,
      "outputs": [
        {
          "output_type": "stream",
          "name": "stdout",
          "text": [
            "(153, 566, 3)\n"
          ]
        }
      ]
    },
    {
      "cell_type": "code",
      "source": [
        "img = original.copy()\n",
        "cv2.drawContours(img, [box], -1, (0, 0, 255), thickness=1)\n",
        "cv2_imshow(img)"
      ],
      "metadata": {
        "id": "Xjy6rO6vS649",
        "colab": {
          "base_uri": "https://localhost:8080/",
          "height": 170
        },
        "outputId": "de856a00-285a-4379-c506-60e970433a34"
      },
      "execution_count": 27,
      "outputs": [
        {
          "output_type": "display_data",
          "data": {
            "text/plain": [
              "<PIL.Image.Image image mode=RGB size=566x153>"
            ],
            "image/png": "[encoded data removed]"
          },
          "metadata": {}
        }
      ]
    },
    {
      "cell_type": "code",
      "source": [
        "print(img.shape)"
      ],
      "metadata": {
        "colab": {
          "base_uri": "https://localhost:8080/"
        },
        "id": "fqFCMv4zGyWQ",
        "outputId": "2de5d19e-5238-4eaa-d53d-4b7eeb26bfd8"
      },
      "execution_count": 28,
      "outputs": [
        {
          "output_type": "stream",
          "name": "stdout",
          "text": [
            "(153, 566, 3)\n"
          ]
        }
      ]
    },
    {
      "cell_type": "code",
      "source": [
        "# This function crops the bounding box\n",
        "def getSubImage(rect, src):\n",
        "    center, size, theta = rect\n",
        "    size = [size[1],size[0]]\n",
        "    center, size = tuple(map(int, center)), tuple(map(int, size))\n",
        "    M = cv2.getRotationMatrix2D( center, theta-90, 1)\n",
        "    print(src.shape)\n",
        "    dst = cv2.warpAffine(src, M, [src.shape[1],src.shape[0]])\n",
        "    out = cv2.getRectSubPix(dst, size, center)\n",
        "    return out"
      ],
      "metadata": {
        "id": "7AwW1JEFsy18"
      },
      "execution_count": 29,
      "outputs": []
    },
    {
      "cell_type": "markdown",
      "source": [
        "Result after cropping the bounding box:"
      ],
      "metadata": {
        "id": "xXsSi2_pdGx4"
      }
    },
    {
      "cell_type": "code",
      "source": [
        "print(image.shape)\n",
        "cv2_imshow(image)"
      ],
      "metadata": {
        "colab": {
          "base_uri": "https://localhost:8080/",
          "height": 141
        },
        "id": "wK701cRlG8QG",
        "outputId": "8c463a82-3020-4aae-b232-d2e087323a16"
      },
      "execution_count": 30,
      "outputs": [
        {
          "output_type": "stream",
          "name": "stdout",
          "text": [
            "(107, 396)\n"
          ]
        },
        {
          "output_type": "display_data",
          "data": {
            "text/plain": [
              "<PIL.Image.Image image mode=L size=396x107>"
            ],
            "image/png": "[encoded data removed]"
          },
          "metadata": {}
        }
      ]
    },
    {
      "cell_type": "code",
      "source": [
        "out = getSubImage(rect, image)\n",
        "cv2_imshow(out)"
      ],
      "metadata": {
        "id": "GDTBDLOegQlF",
        "colab": {
          "base_uri": "https://localhost:8080/",
          "height": 132
        },
        "outputId": "a6b2e68a-ce06-46c9-be3a-f38f5c30ebfe"
      },
      "execution_count": 31,
      "outputs": [
        {
          "output_type": "stream",
          "name": "stdout",
          "text": [
            "(107, 396)\n"
          ]
        },
        {
          "output_type": "display_data",
          "data": {
            "text/plain": [
              "<PIL.Image.Image image mode=L size=153x98>"
            ],
            "image/png": "[encoded data removed]"
          },
          "metadata": {}
        }
      ]
    },
    {
      "cell_type": "code",
      "source": [
        "print(out.shape)"
      ],
      "metadata": {
        "colab": {
          "base_uri": "https://localhost:8080/"
        },
        "id": "4sHZ2HkEG2mz",
        "outputId": "99dd8d19-660b-4a31-b23b-b1f049a69762"
      },
      "execution_count": 32,
      "outputs": [
        {
          "output_type": "stream",
          "name": "stdout",
          "text": [
            "(98, 153)\n"
          ]
        }
      ]
    },
    {
      "cell_type": "markdown",
      "source": [
        "# Barcode Scanning"
      ],
      "metadata": {
        "id": "fBTj0fKcVeq8"
      }
    },
    {
      "cell_type": "code",
      "source": [
        "out = out.astype('uint8')\n",
        "out = cv2.cvtColor(out,cv2.COLOR_GRAY2RGB)"
      ],
      "metadata": {
        "id": "mfi-UWnC7-LL"
      },
      "execution_count": 33,
      "outputs": []
    },
    {
      "cell_type": "code",
      "source": [
        "encoding_pattern ={\n",
        "        \"111111\":0,\n",
        "        \"110100\":1,\n",
        "        \"110010\":2,\n",
        "        \"110001\":3,\n",
        "        \"101100\":4,\n",
        "        \"100110\":5,\n",
        "        \"100011\":6,\n",
        "        \"101010\":7,\n",
        "        \"101001\":8,\n",
        "        \"100101\":9\n",
        "}\n",
        "left=[\n",
        "    {\n",
        "        \"0100111\":0,\n",
        "        \"0110011\":1,\n",
        "        \"0011011\":2,\n",
        "        \"0100001\":3,\n",
        "        \"0011101\":4,\n",
        "        \"0111001\":5,\n",
        "        \"0000101\":6,\n",
        "        \"0010001\":7,\n",
        "        \"0001001\":8,\n",
        "        \"0010111\":9\n",
        "    },\n",
        "    {\n",
        "        \"0001101\":0,\n",
        "        \"0011001\":1,\n",
        "        \"0010011\":2,\n",
        "        \"0111101\":3,\n",
        "        \"0100011\":4,\n",
        "        \"0110001\":5,\n",
        "        \"0101111\":6,\n",
        "        \"0111011\":7,\n",
        "        \"0110111\":8,\n",
        "        \"0001011\":9\n",
        "    }\n",
        "]\n",
        "right = {\n",
        "        \"1110010\":0,\n",
        "        \"1100110\":1,\n",
        "        \"1101100\":2,\n",
        "        \"1000010\":3,\n",
        "        \"1011100\":4,\n",
        "        \"1001110\":5,\n",
        "        \"1010000\":6,\n",
        "        \"1000100\":7,\n",
        "        \"1001000\":8,\n",
        "        \"1110100\":9\n",
        "}"
      ],
      "metadata": {
        "id": "s_BvQxCyF15O"
      },
      "execution_count": 34,
      "outputs": []
    },
    {
      "cell_type": "code",
      "source": [
        "# Write a function that takes in a 3-channel RGB image as input, converts it\n",
        "# into a 1-channel grayscale image, and returns the converted grayscale image.\n",
        "# Note that to convert an RGB image to grayscale, we take the weighted average\n",
        "# of the RGB components as Gray = 0.2989 * RED + 0.5870 * GREEN + 0.1140 * BLUE\n",
        "def rgb2gray(rgb):\n",
        "  # WRITE YOUR CODE HERE\n",
        "  img_gray = 0.2989 * rgb[:, :, 0] + 0.5870 * rgb[:, :, 1] + 0.1140 * rgb[:, :, 2]\n",
        "  return img_gray\n",
        "\n",
        "# Write a function that takes a 1-channel grayscale image, and the thresholding value\n",
        "# as inputs, and performs binary thresholding on the input image with the given threshold.\n",
        "# i.e. if threshold is thrs, then all pixels with intensity < thrs should become 0, and\n",
        "# all pixels with intensity >= thrs should become 255\n",
        "def thresholding(img, thrs):\n",
        "  # WRITE YOUR CODE HERE\n",
        "    _, thresh = cv2.threshold(\n",
        "        img, thresh=thrs,\n",
        "        maxval=255, type=cv2.THRESH_BINARY\n",
        "    )\n",
        "\n",
        "    return thresh\n",
        "\n",
        "# This function takes an RGB image as input, converts it into grayscale image, performs\n",
        "# binary thresholding on the grayscale image, and then finally returns the image.\n",
        "def binarise(pic, thrs):\n",
        "  img = rgb2gray(pic) # Converts the image from RGB to Grayscale\n",
        "  threshimg = thresholding(img, thrs) # Performs binary thresholding on the input image\n",
        "  return threshimg"
      ],
      "metadata": {
        "id": "ETOhXAF48Tgm"
      },
      "execution_count": 35,
      "outputs": []
    },
    {
      "cell_type": "code",
      "source": [
        "def primitive_crop(row):\n",
        "    \"\"\"\n",
        "    crops the row to the first and last occurance of black pixel (0 pixel value)\n",
        "    \"\"\"\n",
        "    indices = np.where(row == 0)[0]\n",
        "    if indices.shape[0] == 0:\n",
        "      return None\n",
        "    return row[indices[0]:indices[-1]+1]"
      ],
      "metadata": {
        "id": "42hTa9Jb8ZaJ"
      },
      "execution_count": 36,
      "outputs": []
    },
    {
      "cell_type": "code",
      "source": [
        "def convert_binary(bars,nlb):\n",
        "    \"\"\"\n",
        "    converts a barcode image row containing 0 or 255\n",
        "    to a binary string.\n",
        "\n",
        "    bars: cropped row of binary image\n",
        "    nlb: Number of pixels per binary digit\n",
        "\n",
        "    returns a string containing 0 and 1s\n",
        "    \"\"\"\n",
        "    binstring = ''\n",
        "    d = 1\n",
        "    cnt = 0\n",
        "    np.append(bars,[-1])\n",
        "    for i in bars:\n",
        "      if i == (255 - d*255):\n",
        "        cnt = cnt + 1\n",
        "      else:\n",
        "        if d == 1:\n",
        "          d = 0\n",
        "          binstring = binstring + '1'*math.ceil(cnt/nlb)\n",
        "        else:\n",
        "          d = 1\n",
        "          binstring = binstring + '0'*math.floor(cnt/nlb)\n",
        "        cnt = 1\n",
        "    return binstring"
      ],
      "metadata": {
        "id": "60J4ZN2-Csb5"
      },
      "execution_count": 37,
      "outputs": []
    },
    {
      "cell_type": "code",
      "source": [
        "def find_num_bars(cropped_row):\n",
        "    \"\"\"\n",
        "    Finds the number of pixels associated with one bar\n",
        "    \"\"\"\n",
        "\n",
        "    num = 0\n",
        "    for i in cropped_row:\n",
        "        if i == 255:\n",
        "            break\n",
        "        else:\n",
        "            num += 1\n",
        "    return num"
      ],
      "metadata": {
        "id": "EFRfFE73BllC"
      },
      "execution_count": 38,
      "outputs": []
    },
    {
      "cell_type": "code",
      "source": [
        "def find_encoding(bs_list):\n",
        "    \"\"\"\n",
        "    returns the encoding (string) to be used to decode the list of binary strings\n",
        "\n",
        "    bs_list : list of binary strings where each binary string\n",
        "    correspond to a decimal digit (using some encoding)\n",
        "    \"\"\"\n",
        "    par_str = \"\"\n",
        "    for number in range(6):\n",
        "        parity = 0\n",
        "        for i in bs_list[number]:\n",
        "            parity ^= int(i)\n",
        "        par_str += str(parity)\n",
        "    return par_str"
      ],
      "metadata": {
        "id": "vDkfCwK2D7_r"
      },
      "execution_count": 39,
      "outputs": []
    },
    {
      "cell_type": "code",
      "source": [
        "def get_digits(binary_string,rep_length):\n",
        "    \"\"\"\n",
        "    returns the list of non-decoded binary string versions of decimal digits\n",
        "\n",
        "    binary_string : binary string containing 0s and 1s\n",
        "    rep_length : number of binary digits that correspond to one decimal digit after decoding\n",
        "    \"\"\"\n",
        "    number_strings = []\n",
        "    start_pos = 3\n",
        "    end_pos = len(binary_string) - 3\n",
        "    i = start_pos\n",
        "    while(i < end_pos):\n",
        "        if i == start_pos + rep_length*6:\n",
        "            i+=5\n",
        "            continue\n",
        "        number_strings.append(str(binary_string[i:i+rep_length]))\n",
        "        i += rep_length\n",
        "    return number_strings"
      ],
      "metadata": {
        "id": "Y8wGt3aKCNfc"
      },
      "execution_count": 40,
      "outputs": []
    },
    {
      "cell_type": "code",
      "source": [
        "def decode(encoding_patter_number,bs_list):\n",
        "    \"\"\"\n",
        "    decodes a list of barcode binary string using barcode-EAN13 algorithm\n",
        "\n",
        "    encoding_patter_number: binary string which is to be used to find encoding_number\n",
        "    bs_list: list of binary strings where each string is encoding of some decimal digit\n",
        "\n",
        "    returns a string containing the decoded decimal digits\n",
        "    \"\"\"\n",
        "\n",
        "    info = \"\"\n",
        "    info += str(encoding_pattern[encoding_pattern_number]) + '-'\n",
        "    for i in range(6):\n",
        "        # print(info)\n",
        "        info += str(left[int(encoding_pattern_number[i])][bs_list[i]])\n",
        "    info += '-'\n",
        "    for i in range(6,12):\n",
        "        info += str(right[bs_list[i]])\n",
        "    return info"
      ],
      "metadata": {
        "id": "YfWBbbN0E7XR"
      },
      "execution_count": 41,
      "outputs": []
    },
    {
      "cell_type": "markdown",
      "source": [
        "### Plot the histogram of pixel intensities."
      ],
      "metadata": {
        "id": "sm2sCar4UZbz"
      }
    },
    {
      "cell_type": "code",
      "source": [
        "histr = cv2.calcHist([out],[0],None,[256],[0,256])\n",
        "plt.plot(histr)"
      ],
      "metadata": {
        "id": "ST1dJbA1xPDK",
        "outputId": "6264eb33-3338-4917-b424-ae86ae19995b",
        "colab": {
          "base_uri": "https://localhost:8080/",
          "height": 447
        }
      },
      "execution_count": 42,
      "outputs": [
        {
          "output_type": "execute_result",
          "data": {
            "text/plain": [
              "[<matplotlib.lines.Line2D at 0x7ac7cc556e60>]"
            ]
          },
          "metadata": {},
          "execution_count": 42
        },
        {
          "output_type": "display_data",
          "data": {
            "text/plain": [
              "<Figure size 640x480 with 1 Axes>"
            ],
            "image/png": "[encoded data removed]"
          },
          "metadata": {}
        }
      ]
    },
    {
      "cell_type": "code",
      "source": [
        "image_cropped = copy.deepcopy(out)\n",
        "image_cropped = cv2.resize(image_cropped, (219, 150))"
      ],
      "metadata": {
        "id": "Gr4Eby0s75cL"
      },
      "execution_count": 43,
      "outputs": []
    },
    {
      "cell_type": "code",
      "source": [
        "cv2_imshow(image_cropped)"
      ],
      "metadata": {
        "colab": {
          "base_uri": "https://localhost:8080/",
          "height": 167
        },
        "id": "-wQab4w9rs8i",
        "outputId": "19500653-73a3-4e2d-af84-60c5d6d11679"
      },
      "execution_count": 44,
      "outputs": [
        {
          "output_type": "display_data",
          "data": {
            "text/plain": [
              "<PIL.Image.Image image mode=RGB size=219x150>"
            ],
            "image/png": "[encoded data removed]"
          },
          "metadata": {}
        }
      ]
    },
    {
      "cell_type": "markdown",
      "source": [
        "The below cell performs binary thresholding using binarise(inp_img, threshold_value) function. Try out different threshold values and see if the Barcode Detection always works."
      ],
      "metadata": {
        "id": "DOpnX-vvTnAq"
      }
    },
    {
      "cell_type": "code",
      "source": [
        "bimg = binarise(image_cropped, 127) # Change the thresold parameter and check if the barcode detection works for other values\n",
        "print(bimg.shape)\n",
        "cv2_imshow(bimg)"
      ],
      "metadata": {
        "id": "2xE3YWo2jLHb",
        "colab": {
          "base_uri": "https://localhost:8080/",
          "height": 184
        },
        "outputId": "da8ff3d7-c7c4-48b0-c2fc-8e18886d8d74"
      },
      "execution_count": 45,
      "outputs": [
        {
          "output_type": "stream",
          "name": "stdout",
          "text": [
            "(150, 219)\n"
          ]
        },
        {
          "output_type": "display_data",
          "data": {
            "text/plain": [
              "<PIL.Image.Image image mode=L size=219x150>"
            ],
            "image/png": "[encoded data removed]"
          },
          "metadata": {}
        }
      ]
    },
    {
      "cell_type": "markdown",
      "source": [
        "**Final Barcode Scanning Algorithm:**"
      ],
      "metadata": {
        "id": "-gJzEgJZUt6z"
      }
    },
    {
      "cell_type": "code",
      "source": [
        "ctr = defaultdict(int)\n",
        "for row in bimg:\n",
        "  cropped_row = primitive_crop(row)\n",
        "  if cropped_row is None:\n",
        "    continue\n",
        "  try:\n",
        "    nlb = find_num_bars(cropped_row)\n",
        "    binary_string = convert_binary(cropped_row,nlb)\n",
        "    rep_length = 7\n",
        "    num_numbers = 13\n",
        "    bs_list = get_digits(binary_string,rep_length)\n",
        "    encoding_pattern_number = find_encoding(bs_list)\n",
        "    print(len(bs_list), encoding_pattern_number)\n",
        "    information = decode(encoding_pattern_number,bs_list)\n",
        "    ctr[information] +=1\n",
        "  except:\n",
        "    continue\n",
        "\n",
        "if len(list(ctr.keys())):\n",
        "  print('Scanned Barcode:',list(ctr.keys())[0])\n",
        "else:\n",
        "  print('Barcode Scanning Failed!!!')"
      ],
      "metadata": {
        "id": "S6snlnDyWoft",
        "colab": {
          "base_uri": "https://localhost:8080/"
        },
        "outputId": "8e8cf1b1-8aa3-453a-dad4-757e8c0db166"
      },
      "execution_count": 46,
      "outputs": [
        {
          "output_type": "stream",
          "name": "stdout",
          "text": [
            "26 111100\n",
            "12 100011\n",
            "12 100011\n",
            "12 100011\n",
            "12 100011\n",
            "12 100011\n",
            "12 100011\n",
            "12 100011\n",
            "12 100011\n",
            "12 100011\n",
            "12 100011\n",
            "12 100011\n",
            "12 100011\n",
            "12 100011\n",
            "12 100011\n",
            "12 100011\n",
            "12 100011\n",
            "12 100011\n",
            "12 100011\n",
            "12 100011\n",
            "12 100011\n",
            "12 100011\n",
            "12 100011\n",
            "12 100011\n",
            "12 100011\n",
            "12 100011\n",
            "12 100011\n",
            "12 100011\n",
            "12 100011\n",
            "12 100011\n",
            "12 100011\n",
            "12 100011\n",
            "12 100011\n",
            "12 100011\n",
            "12 100011\n",
            "12 100011\n",
            "12 100011\n",
            "12 100011\n",
            "12 100011\n",
            "12 100011\n",
            "12 100011\n",
            "12 100011\n",
            "12 100011\n",
            "12 100011\n",
            "12 100011\n",
            "12 100011\n",
            "12 100011\n",
            "12 100011\n",
            "12 100011\n",
            "12 100011\n",
            "12 100011\n",
            "12 100011\n",
            "12 100011\n",
            "12 100011\n",
            "12 100011\n",
            "12 100011\n",
            "12 100011\n",
            "12 100011\n",
            "12 100011\n",
            "12 100011\n",
            "12 100011\n",
            "12 100011\n",
            "12 100011\n",
            "12 100011\n",
            "12 100011\n",
            "12 100011\n",
            "12 100011\n",
            "12 100011\n",
            "12 100011\n",
            "12 100011\n",
            "12 100011\n",
            "12 100011\n",
            "12 100011\n",
            "12 100011\n",
            "12 100011\n",
            "12 100011\n",
            "12 100011\n",
            "12 100011\n",
            "12 100011\n",
            "12 100011\n",
            "12 100011\n",
            "12 100011\n",
            "12 100011\n",
            "12 100011\n",
            "12 100011\n",
            "12 100011\n",
            "12 100011\n",
            "12 100011\n",
            "12 100011\n",
            "12 100011\n",
            "12 100011\n",
            "12 100011\n",
            "12 100011\n",
            "12 100011\n",
            "12 100011\n",
            "12 100011\n",
            "12 100011\n",
            "12 100011\n",
            "12 100011\n",
            "12 100011\n",
            "12 100011\n",
            "12 100011\n",
            "12 100011\n",
            "12 100011\n",
            "12 100011\n",
            "12 100011\n",
            "12 100011\n",
            "12 100011\n",
            "12 000000\n",
            "12 000000\n",
            "12 000000\n",
            "12 000000\n",
            "13 111001\n",
            "13 011101\n",
            "13 011110\n",
            "8 111011\n",
            "9 111011\n",
            "9 101010\n",
            "8 111100\n",
            "13 111001\n",
            "13 110011\n",
            "13 101001\n",
            "13 101001\n",
            "6 001101\n",
            "12 000000\n",
            "12 000000\n",
            "26 000000\n",
            "Scanned Barcode: 6-661869-101132\n"
          ]
        }
      ]
    }
  ]
}